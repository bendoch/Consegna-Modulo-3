{
 "cells": [
  {
   "cell_type": "markdown",
   "id": "c9d479b7-e767-40e6-b2dc-ab8a1f580815",
   "metadata": {},
   "source": [
    "# Traccia\n",
    "## Il committente richiede di avere un report su casi e vaccinazioni in diverse aree del mondo; a tal fine, richiede di utilizzare il dataset, curato da Our World in Data, all'indirizzo https://github.com/owid/covid-19-data/tree/master/public/data alla voce \" Download ourcomplete COVID-19 dataset\"scaricare il dataset nel formato che si preferisce.\n",
    "### 1. Si richiede di verificare le dimensioni del dataset e i relativi metadati\n",
    "### 2. Si chiede di trovare, per ogni continente:\n",
    "    a. il numero di casi fin dall'inizio della pandemia\n",
    "    b. la percentuale rispetto al totale mondiale del numero di casi\n",
    "### 3. Selezionare i dati relativi all'Italia nel 2022 e mostrare con dei grafici adeguati:\n",
    "    a. l'evoluzione del casi totali dall'inizio alla fine dell'anno\n",
    "    b. il numero di nuovi casi rispetto alla data\n",
    "       k. poiché i nuovi casi vengono registrati settimanalmente, filtrare via i dati che non hanno misurazioni\n",
    "### 4. Riguardo le nazioni di Italia, Germania e Francia mostrare in un boxplot la differenza tra queste nazioni riguardo il numero di pazienti in terapia intensiva (Intensive Care Unit, ICU) da maggio 2022 (incluso) ad aprile 2023 (incluso)\n",
    "    a. scrivere un breve commento a riguardo\n",
    "### 5. Riguardo le nazioni di Italia, Germania, Francia e Spagna in tutto il 2023:\n",
    "    a. mostrare la somma dei pazienti ospedalizzati per ognuna\n",
    "    b. se ci sono dati nulli, con un breve commento scrivere se può essere possibile gestirli tramite sostituzione o meno"
   ]
  },
  {
   "cell_type": "code",
   "execution_count": 1,
   "id": "9b55185c-6869-49d1-b1ca-e7987433d3ae",
   "metadata": {},
   "outputs": [],
   "source": [
    "import os # Per il caricamento dinamico di file o l'eventuale uso di file di configurazione come .env\n",
    "import pandas as pd  # Per la manipolazione dei dati\n",
    "import numpy as np  # Per eventuali operazioni numeriche avanzate\n",
    "import seaborn as sns  # Per visualizzazioni avanzate\n",
    "import matplotlib.pyplot as plt # Per aggiungere alcune funzionalità utili alle visualizzazioni"
   ]
  },
  {
   "cell_type": "code",
   "execution_count": 2,
   "id": "c53b95f5-f732-4130-8ee9-72f2ff890e09",
   "metadata": {},
   "outputs": [],
   "source": [
    "# Ho caricato il dataset su GoogleDrive per una più veloce lettura del file da parte di un utente\n",
    "df = pd.read_csv('https://drive.google.com/uc?id=1l2WXSp_LvRj0FbDrCSTZzAANjqkCy_0I')"
   ]
  },
  {
   "cell_type": "markdown",
   "id": "d0f9a23e-a6a9-436e-8ed8-3a1eea2c52bd",
   "metadata": {
    "jp-MarkdownHeadingCollapsed": true
   },
   "source": [
    "## 0. Esplorazione del dataset"
   ]
  },
  {
   "cell_type": "code",
   "execution_count": 3,
   "id": "2a6bcbfd-b725-4e7f-8104-be8b9145babd",
   "metadata": {},
   "outputs": [
    {
     "data": {
      "text/html": [
       "<div>\n",
       "<style scoped>\n",
       "    .dataframe tbody tr th:only-of-type {\n",
       "        vertical-align: middle;\n",
       "    }\n",
       "\n",
       "    .dataframe tbody tr th {\n",
       "        vertical-align: top;\n",
       "    }\n",
       "\n",
       "    .dataframe thead th {\n",
       "        text-align: right;\n",
       "    }\n",
       "</style>\n",
       "<table border=\"1\" class=\"dataframe\">\n",
       "  <thead>\n",
       "    <tr style=\"text-align: right;\">\n",
       "      <th></th>\n",
       "      <th>iso_code</th>\n",
       "      <th>continent</th>\n",
       "      <th>location</th>\n",
       "      <th>date</th>\n",
       "      <th>total_cases</th>\n",
       "      <th>new_cases</th>\n",
       "      <th>new_cases_smoothed</th>\n",
       "      <th>total_deaths</th>\n",
       "      <th>new_deaths</th>\n",
       "      <th>new_deaths_smoothed</th>\n",
       "      <th>...</th>\n",
       "      <th>male_smokers</th>\n",
       "      <th>handwashing_facilities</th>\n",
       "      <th>hospital_beds_per_thousand</th>\n",
       "      <th>life_expectancy</th>\n",
       "      <th>human_development_index</th>\n",
       "      <th>population</th>\n",
       "      <th>excess_mortality_cumulative_absolute</th>\n",
       "      <th>excess_mortality_cumulative</th>\n",
       "      <th>excess_mortality</th>\n",
       "      <th>excess_mortality_cumulative_per_million</th>\n",
       "    </tr>\n",
       "  </thead>\n",
       "  <tbody>\n",
       "    <tr>\n",
       "      <th>84738</th>\n",
       "      <td>CIV</td>\n",
       "      <td>Africa</td>\n",
       "      <td>Cote d'Ivoire</td>\n",
       "      <td>2022-10-25</td>\n",
       "      <td>87693.0</td>\n",
       "      <td>0.0</td>\n",
       "      <td>17.000</td>\n",
       "      <td>827.0</td>\n",
       "      <td>0.0</td>\n",
       "      <td>0.000</td>\n",
       "      <td>...</td>\n",
       "      <td>NaN</td>\n",
       "      <td>19.351</td>\n",
       "      <td>NaN</td>\n",
       "      <td>57.78</td>\n",
       "      <td>0.538</td>\n",
       "      <td>28160548</td>\n",
       "      <td>NaN</td>\n",
       "      <td>NaN</td>\n",
       "      <td>NaN</td>\n",
       "      <td>NaN</td>\n",
       "    </tr>\n",
       "    <tr>\n",
       "      <th>395153</th>\n",
       "      <td>TUV</td>\n",
       "      <td>Oceania</td>\n",
       "      <td>Tuvalu</td>\n",
       "      <td>2020-03-17</td>\n",
       "      <td>0.0</td>\n",
       "      <td>0.0</td>\n",
       "      <td>0.000</td>\n",
       "      <td>0.0</td>\n",
       "      <td>0.0</td>\n",
       "      <td>0.000</td>\n",
       "      <td>...</td>\n",
       "      <td>NaN</td>\n",
       "      <td>NaN</td>\n",
       "      <td>NaN</td>\n",
       "      <td>67.57</td>\n",
       "      <td>NaN</td>\n",
       "      <td>11335</td>\n",
       "      <td>NaN</td>\n",
       "      <td>NaN</td>\n",
       "      <td>NaN</td>\n",
       "      <td>NaN</td>\n",
       "    </tr>\n",
       "    <tr>\n",
       "      <th>170342</th>\n",
       "      <td>HUN</td>\n",
       "      <td>Europe</td>\n",
       "      <td>Hungary</td>\n",
       "      <td>2020-05-25</td>\n",
       "      <td>3741.0</td>\n",
       "      <td>0.0</td>\n",
       "      <td>33.143</td>\n",
       "      <td>486.0</td>\n",
       "      <td>0.0</td>\n",
       "      <td>5.000</td>\n",
       "      <td>...</td>\n",
       "      <td>34.8</td>\n",
       "      <td>NaN</td>\n",
       "      <td>7.02</td>\n",
       "      <td>76.88</td>\n",
       "      <td>0.854</td>\n",
       "      <td>9967304</td>\n",
       "      <td>NaN</td>\n",
       "      <td>NaN</td>\n",
       "      <td>NaN</td>\n",
       "      <td>NaN</td>\n",
       "    </tr>\n",
       "    <tr>\n",
       "      <th>230120</th>\n",
       "      <td>MYS</td>\n",
       "      <td>Asia</td>\n",
       "      <td>Malaysia</td>\n",
       "      <td>2024-02-15</td>\n",
       "      <td>5273996.0</td>\n",
       "      <td>0.0</td>\n",
       "      <td>211.286</td>\n",
       "      <td>37347.0</td>\n",
       "      <td>0.0</td>\n",
       "      <td>0.000</td>\n",
       "      <td>...</td>\n",
       "      <td>42.4</td>\n",
       "      <td>NaN</td>\n",
       "      <td>1.90</td>\n",
       "      <td>76.16</td>\n",
       "      <td>0.810</td>\n",
       "      <td>33938216</td>\n",
       "      <td>NaN</td>\n",
       "      <td>NaN</td>\n",
       "      <td>NaN</td>\n",
       "      <td>NaN</td>\n",
       "    </tr>\n",
       "    <tr>\n",
       "      <th>400612</th>\n",
       "      <td>ARE</td>\n",
       "      <td>Asia</td>\n",
       "      <td>United Arab Emirates</td>\n",
       "      <td>2021-05-28</td>\n",
       "      <td>554516.0</td>\n",
       "      <td>0.0</td>\n",
       "      <td>1369.286</td>\n",
       "      <td>1648.0</td>\n",
       "      <td>0.0</td>\n",
       "      <td>2.714</td>\n",
       "      <td>...</td>\n",
       "      <td>37.4</td>\n",
       "      <td>NaN</td>\n",
       "      <td>1.20</td>\n",
       "      <td>77.97</td>\n",
       "      <td>0.890</td>\n",
       "      <td>9441138</td>\n",
       "      <td>NaN</td>\n",
       "      <td>NaN</td>\n",
       "      <td>NaN</td>\n",
       "      <td>NaN</td>\n",
       "    </tr>\n",
       "    <tr>\n",
       "      <th>312722</th>\n",
       "      <td>QAT</td>\n",
       "      <td>Asia</td>\n",
       "      <td>Qatar</td>\n",
       "      <td>2024-07-23</td>\n",
       "      <td>514524.0</td>\n",
       "      <td>0.0</td>\n",
       "      <td>0.000</td>\n",
       "      <td>690.0</td>\n",
       "      <td>0.0</td>\n",
       "      <td>0.000</td>\n",
       "      <td>...</td>\n",
       "      <td>26.9</td>\n",
       "      <td>NaN</td>\n",
       "      <td>1.20</td>\n",
       "      <td>80.23</td>\n",
       "      <td>0.848</td>\n",
       "      <td>2695131</td>\n",
       "      <td>NaN</td>\n",
       "      <td>NaN</td>\n",
       "      <td>NaN</td>\n",
       "      <td>NaN</td>\n",
       "    </tr>\n",
       "    <tr>\n",
       "      <th>361236</th>\n",
       "      <td>SSD</td>\n",
       "      <td>Africa</td>\n",
       "      <td>South Sudan</td>\n",
       "      <td>2020-11-24</td>\n",
       "      <td>3084.0</td>\n",
       "      <td>0.0</td>\n",
       "      <td>10.000</td>\n",
       "      <td>62.0</td>\n",
       "      <td>0.0</td>\n",
       "      <td>0.143</td>\n",
       "      <td>...</td>\n",
       "      <td>NaN</td>\n",
       "      <td>NaN</td>\n",
       "      <td>NaN</td>\n",
       "      <td>57.85</td>\n",
       "      <td>0.433</td>\n",
       "      <td>10913172</td>\n",
       "      <td>NaN</td>\n",
       "      <td>NaN</td>\n",
       "      <td>NaN</td>\n",
       "      <td>NaN</td>\n",
       "    </tr>\n",
       "    <tr>\n",
       "      <th>222463</th>\n",
       "      <td>OWID_LMC</td>\n",
       "      <td>NaN</td>\n",
       "      <td>Lower-middle-income countries</td>\n",
       "      <td>2023-09-02</td>\n",
       "      <td>91813411.0</td>\n",
       "      <td>0.0</td>\n",
       "      <td>329.286</td>\n",
       "      <td>1185468.0</td>\n",
       "      <td>0.0</td>\n",
       "      <td>3.000</td>\n",
       "      <td>...</td>\n",
       "      <td>NaN</td>\n",
       "      <td>NaN</td>\n",
       "      <td>NaN</td>\n",
       "      <td>NaN</td>\n",
       "      <td>NaN</td>\n",
       "      <td>3432097300</td>\n",
       "      <td>NaN</td>\n",
       "      <td>NaN</td>\n",
       "      <td>NaN</td>\n",
       "      <td>NaN</td>\n",
       "    </tr>\n",
       "    <tr>\n",
       "      <th>171697</th>\n",
       "      <td>HUN</td>\n",
       "      <td>Europe</td>\n",
       "      <td>Hungary</td>\n",
       "      <td>2024-02-09</td>\n",
       "      <td>2229804.0</td>\n",
       "      <td>0.0</td>\n",
       "      <td>38.000</td>\n",
       "      <td>49040.0</td>\n",
       "      <td>0.0</td>\n",
       "      <td>1.286</td>\n",
       "      <td>...</td>\n",
       "      <td>34.8</td>\n",
       "      <td>NaN</td>\n",
       "      <td>7.02</td>\n",
       "      <td>76.88</td>\n",
       "      <td>0.854</td>\n",
       "      <td>9967304</td>\n",
       "      <td>NaN</td>\n",
       "      <td>NaN</td>\n",
       "      <td>NaN</td>\n",
       "      <td>NaN</td>\n",
       "    </tr>\n",
       "    <tr>\n",
       "      <th>82211</th>\n",
       "      <td>CRI</td>\n",
       "      <td>North America</td>\n",
       "      <td>Costa Rica</td>\n",
       "      <td>2020-06-24</td>\n",
       "      <td>2058.0</td>\n",
       "      <td>0.0</td>\n",
       "      <td>63.714</td>\n",
       "      <td>12.0</td>\n",
       "      <td>0.0</td>\n",
       "      <td>0.000</td>\n",
       "      <td>...</td>\n",
       "      <td>17.4</td>\n",
       "      <td>83.841</td>\n",
       "      <td>1.13</td>\n",
       "      <td>80.28</td>\n",
       "      <td>0.810</td>\n",
       "      <td>5180836</td>\n",
       "      <td>NaN</td>\n",
       "      <td>NaN</td>\n",
       "      <td>NaN</td>\n",
       "      <td>NaN</td>\n",
       "    </tr>\n",
       "  </tbody>\n",
       "</table>\n",
       "<p>10 rows × 67 columns</p>\n",
       "</div>"
      ],
      "text/plain": [
       "        iso_code      continent                       location        date  \\\n",
       "84738        CIV         Africa                  Cote d'Ivoire  2022-10-25   \n",
       "395153       TUV        Oceania                         Tuvalu  2020-03-17   \n",
       "170342       HUN         Europe                        Hungary  2020-05-25   \n",
       "230120       MYS           Asia                       Malaysia  2024-02-15   \n",
       "400612       ARE           Asia           United Arab Emirates  2021-05-28   \n",
       "312722       QAT           Asia                          Qatar  2024-07-23   \n",
       "361236       SSD         Africa                    South Sudan  2020-11-24   \n",
       "222463  OWID_LMC            NaN  Lower-middle-income countries  2023-09-02   \n",
       "171697       HUN         Europe                        Hungary  2024-02-09   \n",
       "82211        CRI  North America                     Costa Rica  2020-06-24   \n",
       "\n",
       "        total_cases  new_cases  new_cases_smoothed  total_deaths  new_deaths  \\\n",
       "84738       87693.0        0.0              17.000         827.0         0.0   \n",
       "395153          0.0        0.0               0.000           0.0         0.0   \n",
       "170342       3741.0        0.0              33.143         486.0         0.0   \n",
       "230120    5273996.0        0.0             211.286       37347.0         0.0   \n",
       "400612     554516.0        0.0            1369.286        1648.0         0.0   \n",
       "312722     514524.0        0.0               0.000         690.0         0.0   \n",
       "361236       3084.0        0.0              10.000          62.0         0.0   \n",
       "222463   91813411.0        0.0             329.286     1185468.0         0.0   \n",
       "171697    2229804.0        0.0              38.000       49040.0         0.0   \n",
       "82211        2058.0        0.0              63.714          12.0         0.0   \n",
       "\n",
       "        new_deaths_smoothed  ...  male_smokers  handwashing_facilities  \\\n",
       "84738                 0.000  ...           NaN                  19.351   \n",
       "395153                0.000  ...           NaN                     NaN   \n",
       "170342                5.000  ...          34.8                     NaN   \n",
       "230120                0.000  ...          42.4                     NaN   \n",
       "400612                2.714  ...          37.4                     NaN   \n",
       "312722                0.000  ...          26.9                     NaN   \n",
       "361236                0.143  ...           NaN                     NaN   \n",
       "222463                3.000  ...           NaN                     NaN   \n",
       "171697                1.286  ...          34.8                     NaN   \n",
       "82211                 0.000  ...          17.4                  83.841   \n",
       "\n",
       "        hospital_beds_per_thousand  life_expectancy  human_development_index  \\\n",
       "84738                          NaN            57.78                    0.538   \n",
       "395153                         NaN            67.57                      NaN   \n",
       "170342                        7.02            76.88                    0.854   \n",
       "230120                        1.90            76.16                    0.810   \n",
       "400612                        1.20            77.97                    0.890   \n",
       "312722                        1.20            80.23                    0.848   \n",
       "361236                         NaN            57.85                    0.433   \n",
       "222463                         NaN              NaN                      NaN   \n",
       "171697                        7.02            76.88                    0.854   \n",
       "82211                         1.13            80.28                    0.810   \n",
       "\n",
       "        population  excess_mortality_cumulative_absolute  \\\n",
       "84738     28160548                                   NaN   \n",
       "395153       11335                                   NaN   \n",
       "170342     9967304                                   NaN   \n",
       "230120    33938216                                   NaN   \n",
       "400612     9441138                                   NaN   \n",
       "312722     2695131                                   NaN   \n",
       "361236    10913172                                   NaN   \n",
       "222463  3432097300                                   NaN   \n",
       "171697     9967304                                   NaN   \n",
       "82211      5180836                                   NaN   \n",
       "\n",
       "        excess_mortality_cumulative  excess_mortality  \\\n",
       "84738                           NaN               NaN   \n",
       "395153                          NaN               NaN   \n",
       "170342                          NaN               NaN   \n",
       "230120                          NaN               NaN   \n",
       "400612                          NaN               NaN   \n",
       "312722                          NaN               NaN   \n",
       "361236                          NaN               NaN   \n",
       "222463                          NaN               NaN   \n",
       "171697                          NaN               NaN   \n",
       "82211                           NaN               NaN   \n",
       "\n",
       "        excess_mortality_cumulative_per_million  \n",
       "84738                                       NaN  \n",
       "395153                                      NaN  \n",
       "170342                                      NaN  \n",
       "230120                                      NaN  \n",
       "400612                                      NaN  \n",
       "312722                                      NaN  \n",
       "361236                                      NaN  \n",
       "222463                                      NaN  \n",
       "171697                                      NaN  \n",
       "82211                                       NaN  \n",
       "\n",
       "[10 rows x 67 columns]"
      ]
     },
     "execution_count": 3,
     "metadata": {},
     "output_type": "execute_result"
    }
   ],
   "source": [
    "df.sample(10) # Per avere una visualizzazione del dataset"
   ]
  },
  {
   "cell_type": "code",
   "execution_count": 4,
   "id": "691401ba-181b-402b-a70a-aaa0dda46107",
   "metadata": {},
   "outputs": [
    {
     "name": "stdout",
     "output_type": "stream",
     "text": [
      "Index(['iso_code', 'continent', 'location', 'date', 'total_cases', 'new_cases',\n",
      "       'new_cases_smoothed', 'total_deaths', 'new_deaths',\n",
      "       'new_deaths_smoothed', 'total_cases_per_million',\n",
      "       'new_cases_per_million', 'new_cases_smoothed_per_million',\n",
      "       'total_deaths_per_million', 'new_deaths_per_million',\n",
      "       'new_deaths_smoothed_per_million', 'reproduction_rate', 'icu_patients',\n",
      "       'icu_patients_per_million', 'hosp_patients',\n",
      "       'hosp_patients_per_million', 'weekly_icu_admissions',\n",
      "       'weekly_icu_admissions_per_million', 'weekly_hosp_admissions',\n",
      "       'weekly_hosp_admissions_per_million', 'total_tests', 'new_tests',\n",
      "       'total_tests_per_thousand', 'new_tests_per_thousand',\n",
      "       'new_tests_smoothed', 'new_tests_smoothed_per_thousand',\n",
      "       'positive_rate', 'tests_per_case', 'tests_units', 'total_vaccinations',\n",
      "       'people_vaccinated', 'people_fully_vaccinated', 'total_boosters',\n",
      "       'new_vaccinations', 'new_vaccinations_smoothed',\n",
      "       'total_vaccinations_per_hundred', 'people_vaccinated_per_hundred',\n",
      "       'people_fully_vaccinated_per_hundred', 'total_boosters_per_hundred',\n",
      "       'new_vaccinations_smoothed_per_million',\n",
      "       'new_people_vaccinated_smoothed',\n",
      "       'new_people_vaccinated_smoothed_per_hundred', 'stringency_index',\n",
      "       'population_density', 'median_age', 'aged_65_older', 'aged_70_older',\n",
      "       'gdp_per_capita', 'extreme_poverty', 'cardiovasc_death_rate',\n",
      "       'diabetes_prevalence', 'female_smokers', 'male_smokers',\n",
      "       'handwashing_facilities', 'hospital_beds_per_thousand',\n",
      "       'life_expectancy', 'human_development_index', 'population',\n",
      "       'excess_mortality_cumulative_absolute', 'excess_mortality_cumulative',\n",
      "       'excess_mortality', 'excess_mortality_cumulative_per_million'],\n",
      "      dtype='object')\n"
     ]
    }
   ],
   "source": [
    "print(df.columns) # Per una visualizzazione dei nomi delle colonne"
   ]
  },
  {
   "cell_type": "code",
   "execution_count": 5,
   "id": "81b18829-74eb-4f38-9e39-5584e547d98c",
   "metadata": {},
   "outputs": [
    {
     "name": "stdout",
     "output_type": "stream",
     "text": [
      "<class 'pandas.core.frame.DataFrame'>\n",
      "RangeIndex: 429435 entries, 0 to 429434\n",
      "Data columns (total 67 columns):\n",
      " #   Column                                      Non-Null Count   Dtype  \n",
      "---  ------                                      --------------   -----  \n",
      " 0   iso_code                                    429435 non-null  object \n",
      " 1   continent                                   402910 non-null  object \n",
      " 2   location                                    429435 non-null  object \n",
      " 3   date                                        429435 non-null  object \n",
      " 4   total_cases                                 411804 non-null  float64\n",
      " 5   new_cases                                   410159 non-null  float64\n",
      " 6   new_cases_smoothed                          408929 non-null  float64\n",
      " 7   total_deaths                                411804 non-null  float64\n",
      " 8   new_deaths                                  410608 non-null  float64\n",
      " 9   new_deaths_smoothed                         409378 non-null  float64\n",
      " 10  total_cases_per_million                     411804 non-null  float64\n",
      " 11  new_cases_per_million                       410159 non-null  float64\n",
      " 12  new_cases_smoothed_per_million              408929 non-null  float64\n",
      " 13  total_deaths_per_million                    411804 non-null  float64\n",
      " 14  new_deaths_per_million                      410608 non-null  float64\n",
      " 15  new_deaths_smoothed_per_million             409378 non-null  float64\n",
      " 16  reproduction_rate                           184817 non-null  float64\n",
      " 17  icu_patients                                39116 non-null   float64\n",
      " 18  icu_patients_per_million                    39116 non-null   float64\n",
      " 19  hosp_patients                               40656 non-null   float64\n",
      " 20  hosp_patients_per_million                   40656 non-null   float64\n",
      " 21  weekly_icu_admissions                       10993 non-null   float64\n",
      " 22  weekly_icu_admissions_per_million           10993 non-null   float64\n",
      " 23  weekly_hosp_admissions                      24497 non-null   float64\n",
      " 24  weekly_hosp_admissions_per_million          24497 non-null   float64\n",
      " 25  total_tests                                 79387 non-null   float64\n",
      " 26  new_tests                                   75403 non-null   float64\n",
      " 27  total_tests_per_thousand                    79387 non-null   float64\n",
      " 28  new_tests_per_thousand                      75403 non-null   float64\n",
      " 29  new_tests_smoothed                          103965 non-null  float64\n",
      " 30  new_tests_smoothed_per_thousand             103965 non-null  float64\n",
      " 31  positive_rate                               95927 non-null   float64\n",
      " 32  tests_per_case                              94348 non-null   float64\n",
      " 33  tests_units                                 106788 non-null  object \n",
      " 34  total_vaccinations                          85417 non-null   float64\n",
      " 35  people_vaccinated                           81132 non-null   float64\n",
      " 36  people_fully_vaccinated                     78061 non-null   float64\n",
      " 37  total_boosters                              53600 non-null   float64\n",
      " 38  new_vaccinations                            70971 non-null   float64\n",
      " 39  new_vaccinations_smoothed                   195029 non-null  float64\n",
      " 40  total_vaccinations_per_hundred              85417 non-null   float64\n",
      " 41  people_vaccinated_per_hundred               81132 non-null   float64\n",
      " 42  people_fully_vaccinated_per_hundred         78061 non-null   float64\n",
      " 43  total_boosters_per_hundred                  53600 non-null   float64\n",
      " 44  new_vaccinations_smoothed_per_million       195029 non-null  float64\n",
      " 45  new_people_vaccinated_smoothed              192177 non-null  float64\n",
      " 46  new_people_vaccinated_smoothed_per_hundred  192177 non-null  float64\n",
      " 47  stringency_index                            196190 non-null  float64\n",
      " 48  population_density                          360492 non-null  float64\n",
      " 49  median_age                                  334663 non-null  float64\n",
      " 50  aged_65_older                               323270 non-null  float64\n",
      " 51  aged_70_older                               331315 non-null  float64\n",
      " 52  gdp_per_capita                              328292 non-null  float64\n",
      " 53  extreme_poverty                             211996 non-null  float64\n",
      " 54  cardiovasc_death_rate                       328865 non-null  float64\n",
      " 55  diabetes_prevalence                         345911 non-null  float64\n",
      " 56  female_smokers                              247165 non-null  float64\n",
      " 57  male_smokers                                243817 non-null  float64\n",
      " 58  handwashing_facilities                      161741 non-null  float64\n",
      " 59  hospital_beds_per_thousand                  290689 non-null  float64\n",
      " 60  life_expectancy                             390299 non-null  float64\n",
      " 61  human_development_index                     319127 non-null  float64\n",
      " 62  population                                  429435 non-null  int64  \n",
      " 63  excess_mortality_cumulative_absolute        13411 non-null   float64\n",
      " 64  excess_mortality_cumulative                 13411 non-null   float64\n",
      " 65  excess_mortality                            13411 non-null   float64\n",
      " 66  excess_mortality_cumulative_per_million     13411 non-null   float64\n",
      "dtypes: float64(61), int64(1), object(5)\n",
      "memory usage: 219.5+ MB\n"
     ]
    }
   ],
   "source": [
    "df.info() # Controllo i tipi di dati per colonna"
   ]
  },
  {
   "cell_type": "code",
   "execution_count": 6,
   "id": "1a5db2f4-aac3-42c9-ba3b-f4c1b0450646",
   "metadata": {},
   "outputs": [
    {
     "data": {
      "text/html": [
       "<div>\n",
       "<style scoped>\n",
       "    .dataframe tbody tr th:only-of-type {\n",
       "        vertical-align: middle;\n",
       "    }\n",
       "\n",
       "    .dataframe tbody tr th {\n",
       "        vertical-align: top;\n",
       "    }\n",
       "\n",
       "    .dataframe thead th {\n",
       "        text-align: right;\n",
       "    }\n",
       "</style>\n",
       "<table border=\"1\" class=\"dataframe\">\n",
       "  <thead>\n",
       "    <tr style=\"text-align: right;\">\n",
       "      <th></th>\n",
       "      <th>total_cases</th>\n",
       "      <th>new_cases</th>\n",
       "      <th>new_cases_smoothed</th>\n",
       "      <th>total_deaths</th>\n",
       "      <th>new_deaths</th>\n",
       "      <th>new_deaths_smoothed</th>\n",
       "      <th>total_cases_per_million</th>\n",
       "      <th>new_cases_per_million</th>\n",
       "      <th>new_cases_smoothed_per_million</th>\n",
       "      <th>total_deaths_per_million</th>\n",
       "      <th>...</th>\n",
       "      <th>male_smokers</th>\n",
       "      <th>handwashing_facilities</th>\n",
       "      <th>hospital_beds_per_thousand</th>\n",
       "      <th>life_expectancy</th>\n",
       "      <th>human_development_index</th>\n",
       "      <th>population</th>\n",
       "      <th>excess_mortality_cumulative_absolute</th>\n",
       "      <th>excess_mortality_cumulative</th>\n",
       "      <th>excess_mortality</th>\n",
       "      <th>excess_mortality_cumulative_per_million</th>\n",
       "    </tr>\n",
       "  </thead>\n",
       "  <tbody>\n",
       "    <tr>\n",
       "      <th>count</th>\n",
       "      <td>4.118040e+05</td>\n",
       "      <td>4.101590e+05</td>\n",
       "      <td>4.089290e+05</td>\n",
       "      <td>4.118040e+05</td>\n",
       "      <td>410608.000000</td>\n",
       "      <td>409378.000000</td>\n",
       "      <td>411804.000000</td>\n",
       "      <td>410159.000000</td>\n",
       "      <td>408929.000000</td>\n",
       "      <td>411804.000000</td>\n",
       "      <td>...</td>\n",
       "      <td>243817.000000</td>\n",
       "      <td>161741.000000</td>\n",
       "      <td>290689.000000</td>\n",
       "      <td>390299.000000</td>\n",
       "      <td>319127.000000</td>\n",
       "      <td>4.294350e+05</td>\n",
       "      <td>1.341100e+04</td>\n",
       "      <td>13411.000000</td>\n",
       "      <td>13411.000000</td>\n",
       "      <td>13411.000000</td>\n",
       "    </tr>\n",
       "    <tr>\n",
       "      <th>mean</th>\n",
       "      <td>7.365292e+06</td>\n",
       "      <td>8.017360e+03</td>\n",
       "      <td>8.041026e+03</td>\n",
       "      <td>8.125957e+04</td>\n",
       "      <td>71.852139</td>\n",
       "      <td>72.060873</td>\n",
       "      <td>112096.199396</td>\n",
       "      <td>122.357074</td>\n",
       "      <td>122.713844</td>\n",
       "      <td>835.514313</td>\n",
       "      <td>...</td>\n",
       "      <td>33.097723</td>\n",
       "      <td>50.649264</td>\n",
       "      <td>3.106912</td>\n",
       "      <td>73.702098</td>\n",
       "      <td>0.722139</td>\n",
       "      <td>1.520336e+08</td>\n",
       "      <td>5.604765e+04</td>\n",
       "      <td>9.766431</td>\n",
       "      <td>10.925353</td>\n",
       "      <td>1772.666400</td>\n",
       "    </tr>\n",
       "    <tr>\n",
       "      <th>std</th>\n",
       "      <td>4.477582e+07</td>\n",
       "      <td>2.296649e+05</td>\n",
       "      <td>8.661611e+04</td>\n",
       "      <td>4.411901e+05</td>\n",
       "      <td>1368.322990</td>\n",
       "      <td>513.636567</td>\n",
       "      <td>162240.412419</td>\n",
       "      <td>1508.778583</td>\n",
       "      <td>559.701638</td>\n",
       "      <td>1134.932671</td>\n",
       "      <td>...</td>\n",
       "      <td>13.853948</td>\n",
       "      <td>31.905375</td>\n",
       "      <td>2.549205</td>\n",
       "      <td>7.387914</td>\n",
       "      <td>0.148903</td>\n",
       "      <td>6.975408e+08</td>\n",
       "      <td>1.568691e+05</td>\n",
       "      <td>12.040658</td>\n",
       "      <td>24.560706</td>\n",
       "      <td>1991.892769</td>\n",
       "    </tr>\n",
       "    <tr>\n",
       "      <th>min</th>\n",
       "      <td>0.000000e+00</td>\n",
       "      <td>0.000000e+00</td>\n",
       "      <td>0.000000e+00</td>\n",
       "      <td>0.000000e+00</td>\n",
       "      <td>0.000000</td>\n",
       "      <td>0.000000</td>\n",
       "      <td>0.000000</td>\n",
       "      <td>0.000000</td>\n",
       "      <td>0.000000</td>\n",
       "      <td>0.000000</td>\n",
       "      <td>...</td>\n",
       "      <td>7.700000</td>\n",
       "      <td>1.188000</td>\n",
       "      <td>0.100000</td>\n",
       "      <td>53.280000</td>\n",
       "      <td>0.394000</td>\n",
       "      <td>4.700000e+01</td>\n",
       "      <td>-3.772610e+04</td>\n",
       "      <td>-44.230000</td>\n",
       "      <td>-95.920000</td>\n",
       "      <td>-2936.453100</td>\n",
       "    </tr>\n",
       "    <tr>\n",
       "      <th>25%</th>\n",
       "      <td>6.280750e+03</td>\n",
       "      <td>0.000000e+00</td>\n",
       "      <td>0.000000e+00</td>\n",
       "      <td>4.300000e+01</td>\n",
       "      <td>0.000000</td>\n",
       "      <td>0.000000</td>\n",
       "      <td>1916.100500</td>\n",
       "      <td>0.000000</td>\n",
       "      <td>0.000000</td>\n",
       "      <td>24.568000</td>\n",
       "      <td>...</td>\n",
       "      <td>22.600000</td>\n",
       "      <td>20.859000</td>\n",
       "      <td>1.300000</td>\n",
       "      <td>69.500000</td>\n",
       "      <td>0.602000</td>\n",
       "      <td>5.237980e+05</td>\n",
       "      <td>1.765000e+02</td>\n",
       "      <td>2.060000</td>\n",
       "      <td>-1.500000</td>\n",
       "      <td>116.872242</td>\n",
       "    </tr>\n",
       "    <tr>\n",
       "      <th>50%</th>\n",
       "      <td>6.365300e+04</td>\n",
       "      <td>0.000000e+00</td>\n",
       "      <td>1.200000e+01</td>\n",
       "      <td>7.990000e+02</td>\n",
       "      <td>0.000000</td>\n",
       "      <td>0.000000</td>\n",
       "      <td>29145.475000</td>\n",
       "      <td>0.000000</td>\n",
       "      <td>2.794000</td>\n",
       "      <td>295.089000</td>\n",
       "      <td>...</td>\n",
       "      <td>33.100000</td>\n",
       "      <td>49.542000</td>\n",
       "      <td>2.500000</td>\n",
       "      <td>75.050000</td>\n",
       "      <td>0.740000</td>\n",
       "      <td>6.336393e+06</td>\n",
       "      <td>6.815199e+03</td>\n",
       "      <td>8.130000</td>\n",
       "      <td>5.660000</td>\n",
       "      <td>1270.801400</td>\n",
       "    </tr>\n",
       "    <tr>\n",
       "      <th>75%</th>\n",
       "      <td>7.582720e+05</td>\n",
       "      <td>0.000000e+00</td>\n",
       "      <td>3.132860e+02</td>\n",
       "      <td>9.574000e+03</td>\n",
       "      <td>0.000000</td>\n",
       "      <td>3.143000</td>\n",
       "      <td>156770.190000</td>\n",
       "      <td>0.000000</td>\n",
       "      <td>56.253000</td>\n",
       "      <td>1283.817000</td>\n",
       "      <td>...</td>\n",
       "      <td>41.500000</td>\n",
       "      <td>82.502000</td>\n",
       "      <td>4.210000</td>\n",
       "      <td>79.460000</td>\n",
       "      <td>0.829000</td>\n",
       "      <td>3.296952e+07</td>\n",
       "      <td>3.912804e+04</td>\n",
       "      <td>15.160000</td>\n",
       "      <td>15.575000</td>\n",
       "      <td>2883.024150</td>\n",
       "    </tr>\n",
       "    <tr>\n",
       "      <th>max</th>\n",
       "      <td>7.758668e+08</td>\n",
       "      <td>4.423623e+07</td>\n",
       "      <td>6.319461e+06</td>\n",
       "      <td>7.057132e+06</td>\n",
       "      <td>103719.000000</td>\n",
       "      <td>14817.000000</td>\n",
       "      <td>763598.600000</td>\n",
       "      <td>241758.230000</td>\n",
       "      <td>34536.890000</td>\n",
       "      <td>6601.110000</td>\n",
       "      <td>...</td>\n",
       "      <td>78.100000</td>\n",
       "      <td>100.000000</td>\n",
       "      <td>13.800000</td>\n",
       "      <td>86.750000</td>\n",
       "      <td>0.957000</td>\n",
       "      <td>7.975105e+09</td>\n",
       "      <td>1.349776e+06</td>\n",
       "      <td>78.080000</td>\n",
       "      <td>378.220000</td>\n",
       "      <td>10293.515000</td>\n",
       "    </tr>\n",
       "  </tbody>\n",
       "</table>\n",
       "<p>8 rows × 62 columns</p>\n",
       "</div>"
      ],
      "text/plain": [
       "        total_cases     new_cases  new_cases_smoothed  total_deaths  \\\n",
       "count  4.118040e+05  4.101590e+05        4.089290e+05  4.118040e+05   \n",
       "mean   7.365292e+06  8.017360e+03        8.041026e+03  8.125957e+04   \n",
       "std    4.477582e+07  2.296649e+05        8.661611e+04  4.411901e+05   \n",
       "min    0.000000e+00  0.000000e+00        0.000000e+00  0.000000e+00   \n",
       "25%    6.280750e+03  0.000000e+00        0.000000e+00  4.300000e+01   \n",
       "50%    6.365300e+04  0.000000e+00        1.200000e+01  7.990000e+02   \n",
       "75%    7.582720e+05  0.000000e+00        3.132860e+02  9.574000e+03   \n",
       "max    7.758668e+08  4.423623e+07        6.319461e+06  7.057132e+06   \n",
       "\n",
       "          new_deaths  new_deaths_smoothed  total_cases_per_million  \\\n",
       "count  410608.000000        409378.000000            411804.000000   \n",
       "mean       71.852139            72.060873            112096.199396   \n",
       "std      1368.322990           513.636567            162240.412419   \n",
       "min         0.000000             0.000000                 0.000000   \n",
       "25%         0.000000             0.000000              1916.100500   \n",
       "50%         0.000000             0.000000             29145.475000   \n",
       "75%         0.000000             3.143000            156770.190000   \n",
       "max    103719.000000         14817.000000            763598.600000   \n",
       "\n",
       "       new_cases_per_million  new_cases_smoothed_per_million  \\\n",
       "count          410159.000000                   408929.000000   \n",
       "mean              122.357074                      122.713844   \n",
       "std              1508.778583                      559.701638   \n",
       "min                 0.000000                        0.000000   \n",
       "25%                 0.000000                        0.000000   \n",
       "50%                 0.000000                        2.794000   \n",
       "75%                 0.000000                       56.253000   \n",
       "max            241758.230000                    34536.890000   \n",
       "\n",
       "       total_deaths_per_million  ...   male_smokers  handwashing_facilities  \\\n",
       "count             411804.000000  ...  243817.000000           161741.000000   \n",
       "mean                 835.514313  ...      33.097723               50.649264   \n",
       "std                 1134.932671  ...      13.853948               31.905375   \n",
       "min                    0.000000  ...       7.700000                1.188000   \n",
       "25%                   24.568000  ...      22.600000               20.859000   \n",
       "50%                  295.089000  ...      33.100000               49.542000   \n",
       "75%                 1283.817000  ...      41.500000               82.502000   \n",
       "max                 6601.110000  ...      78.100000              100.000000   \n",
       "\n",
       "       hospital_beds_per_thousand  life_expectancy  human_development_index  \\\n",
       "count               290689.000000    390299.000000            319127.000000   \n",
       "mean                     3.106912        73.702098                 0.722139   \n",
       "std                      2.549205         7.387914                 0.148903   \n",
       "min                      0.100000        53.280000                 0.394000   \n",
       "25%                      1.300000        69.500000                 0.602000   \n",
       "50%                      2.500000        75.050000                 0.740000   \n",
       "75%                      4.210000        79.460000                 0.829000   \n",
       "max                     13.800000        86.750000                 0.957000   \n",
       "\n",
       "         population  excess_mortality_cumulative_absolute  \\\n",
       "count  4.294350e+05                          1.341100e+04   \n",
       "mean   1.520336e+08                          5.604765e+04   \n",
       "std    6.975408e+08                          1.568691e+05   \n",
       "min    4.700000e+01                         -3.772610e+04   \n",
       "25%    5.237980e+05                          1.765000e+02   \n",
       "50%    6.336393e+06                          6.815199e+03   \n",
       "75%    3.296952e+07                          3.912804e+04   \n",
       "max    7.975105e+09                          1.349776e+06   \n",
       "\n",
       "       excess_mortality_cumulative  excess_mortality  \\\n",
       "count                 13411.000000      13411.000000   \n",
       "mean                      9.766431         10.925353   \n",
       "std                      12.040658         24.560706   \n",
       "min                     -44.230000        -95.920000   \n",
       "25%                       2.060000         -1.500000   \n",
       "50%                       8.130000          5.660000   \n",
       "75%                      15.160000         15.575000   \n",
       "max                      78.080000        378.220000   \n",
       "\n",
       "       excess_mortality_cumulative_per_million  \n",
       "count                             13411.000000  \n",
       "mean                               1772.666400  \n",
       "std                                1991.892769  \n",
       "min                               -2936.453100  \n",
       "25%                                 116.872242  \n",
       "50%                                1270.801400  \n",
       "75%                                2883.024150  \n",
       "max                               10293.515000  \n",
       "\n",
       "[8 rows x 62 columns]"
      ]
     },
     "execution_count": 6,
     "metadata": {},
     "output_type": "execute_result"
    }
   ],
   "source": [
    "df.describe() # Per una visualizzazione iniziale delle statistiche descrittive per le colonne numeriche"
   ]
  },
  {
   "cell_type": "code",
   "execution_count": 7,
   "id": "0b87dee4-943d-44d2-b11c-154831ba2a60",
   "metadata": {},
   "outputs": [
    {
     "name": "stdout",
     "output_type": "stream",
     "text": [
      "iso_code : 0 valori nulli , 0.0% sul totale\n",
      "continent : 26525 valori nulli , 6.18% sul totale\n",
      "location : 0 valori nulli , 0.0% sul totale\n",
      "date : 0 valori nulli , 0.0% sul totale\n",
      "total_cases : 17631 valori nulli , 4.11% sul totale\n",
      "new_cases : 19276 valori nulli , 4.49% sul totale\n",
      "new_cases_smoothed : 20506 valori nulli , 4.78% sul totale\n",
      "total_deaths : 17631 valori nulli , 4.11% sul totale\n",
      "new_deaths : 18827 valori nulli , 4.38% sul totale\n",
      "new_deaths_smoothed : 20057 valori nulli , 4.67% sul totale\n",
      "total_cases_per_million : 17631 valori nulli , 4.11% sul totale\n",
      "new_cases_per_million : 19276 valori nulli , 4.49% sul totale\n",
      "new_cases_smoothed_per_million : 20506 valori nulli , 4.78% sul totale\n",
      "total_deaths_per_million : 17631 valori nulli , 4.11% sul totale\n",
      "new_deaths_per_million : 18827 valori nulli , 4.38% sul totale\n",
      "new_deaths_smoothed_per_million : 20057 valori nulli , 4.67% sul totale\n",
      "reproduction_rate : 244618 valori nulli , 56.96% sul totale\n",
      "icu_patients : 390319 valori nulli , 90.89% sul totale\n",
      "icu_patients_per_million : 390319 valori nulli , 90.89% sul totale\n",
      "hosp_patients : 388779 valori nulli , 90.53% sul totale\n",
      "hosp_patients_per_million : 388779 valori nulli , 90.53% sul totale\n",
      "weekly_icu_admissions : 418442 valori nulli , 97.44% sul totale\n",
      "weekly_icu_admissions_per_million : 418442 valori nulli , 97.44% sul totale\n",
      "weekly_hosp_admissions : 404938 valori nulli , 94.3% sul totale\n",
      "weekly_hosp_admissions_per_million : 404938 valori nulli , 94.3% sul totale\n",
      "total_tests : 350048 valori nulli , 81.51% sul totale\n",
      "new_tests : 354032 valori nulli , 82.44% sul totale\n",
      "total_tests_per_thousand : 350048 valori nulli , 81.51% sul totale\n",
      "new_tests_per_thousand : 354032 valori nulli , 82.44% sul totale\n",
      "new_tests_smoothed : 325470 valori nulli , 75.79% sul totale\n",
      "new_tests_smoothed_per_thousand : 325470 valori nulli , 75.79% sul totale\n",
      "positive_rate : 333508 valori nulli , 77.66% sul totale\n",
      "tests_per_case : 335087 valori nulli , 78.03% sul totale\n",
      "tests_units : 322647 valori nulli , 75.13% sul totale\n",
      "total_vaccinations : 344018 valori nulli , 80.11% sul totale\n",
      "people_vaccinated : 348303 valori nulli , 81.11% sul totale\n",
      "people_fully_vaccinated : 351374 valori nulli , 81.82% sul totale\n",
      "total_boosters : 375835 valori nulli , 87.52% sul totale\n",
      "new_vaccinations : 358464 valori nulli , 83.47% sul totale\n",
      "new_vaccinations_smoothed : 234406 valori nulli , 54.58% sul totale\n",
      "total_vaccinations_per_hundred : 344018 valori nulli , 80.11% sul totale\n",
      "people_vaccinated_per_hundred : 348303 valori nulli , 81.11% sul totale\n",
      "people_fully_vaccinated_per_hundred : 351374 valori nulli , 81.82% sul totale\n",
      "total_boosters_per_hundred : 375835 valori nulli , 87.52% sul totale\n",
      "new_vaccinations_smoothed_per_million : 234406 valori nulli , 54.58% sul totale\n",
      "new_people_vaccinated_smoothed : 237258 valori nulli , 55.25% sul totale\n",
      "new_people_vaccinated_smoothed_per_hundred : 237258 valori nulli , 55.25% sul totale\n",
      "stringency_index : 233245 valori nulli , 54.31% sul totale\n",
      "population_density : 68943 valori nulli , 16.05% sul totale\n",
      "median_age : 94772 valori nulli , 22.07% sul totale\n",
      "aged_65_older : 106165 valori nulli , 24.72% sul totale\n",
      "aged_70_older : 98120 valori nulli , 22.85% sul totale\n",
      "gdp_per_capita : 101143 valori nulli , 23.55% sul totale\n",
      "extreme_poverty : 217439 valori nulli , 50.63% sul totale\n",
      "cardiovasc_death_rate : 100570 valori nulli , 23.42% sul totale\n",
      "diabetes_prevalence : 83524 valori nulli , 19.45% sul totale\n",
      "female_smokers : 182270 valori nulli , 42.44% sul totale\n",
      "male_smokers : 185618 valori nulli , 43.22% sul totale\n",
      "handwashing_facilities : 267694 valori nulli , 62.34% sul totale\n",
      "hospital_beds_per_thousand : 138746 valori nulli , 32.31% sul totale\n",
      "life_expectancy : 39136 valori nulli , 9.11% sul totale\n",
      "human_development_index : 110308 valori nulli , 25.69% sul totale\n",
      "population : 0 valori nulli , 0.0% sul totale\n",
      "excess_mortality_cumulative_absolute : 416024 valori nulli , 96.88% sul totale\n",
      "excess_mortality_cumulative : 416024 valori nulli , 96.88% sul totale\n",
      "excess_mortality : 416024 valori nulli , 96.88% sul totale\n",
      "excess_mortality_cumulative_per_million : 416024 valori nulli , 96.88% sul totale\n"
     ]
    }
   ],
   "source": [
    "# Verifica dei valori nulli:\n",
    "for column in df.columns:\n",
    "    nan_count = df[column].isna().sum() # Conteggio dei valori nulli per colonna\n",
    "    nan_percentage = round(( nan_count / df.shape[0] )*100 , 2) # Calcolo l'impatto percentuale dei valori nulli\n",
    "    print(f\"{column} : {nan_count} valori nulli , {nan_percentage}% sul totale\")"
   ]
  },
  {
   "cell_type": "code",
   "execution_count": 8,
   "id": "c8ee8422-675a-4fe0-9896-3b25a1c2b99a",
   "metadata": {},
   "outputs": [
    {
     "name": "stdout",
     "output_type": "stream",
     "text": [
      "['Africa' 'Asia' 'Europe' 'European Union (27)' 'High-income countries'\n",
      " 'Low-income countries' 'Lower-middle-income countries' 'North America'\n",
      " 'Oceania' 'South America' 'Upper-middle-income countries' 'World']\n"
     ]
    }
   ],
   "source": [
    "\"\"\"\n",
    "Annotazione:\n",
    "Ci sono casi in cui il valore nella colonna continent è nullo, in questi casi la colonna location riflette aree specifiche come continenti o categorie\n",
    "come 'low-income countries' ecc\n",
    "\"\"\"\n",
    "\n",
    "null_continents = df[df['continent'].isnull()]\n",
    "print(null_continents['location'].unique())"
   ]
  },
  {
   "cell_type": "code",
   "execution_count": 9,
   "id": "069c4d41-07ec-4521-a23f-ca2ea1fdc1cb",
   "metadata": {},
   "outputs": [
    {
     "name": "stdout",
     "output_type": "stream",
     "text": [
      "['Asia' nan 'Europe' 'Africa' 'Oceania' 'North America' 'South America']\n",
      "255\n"
     ]
    }
   ],
   "source": [
    "print(df['continent'].unique())\n",
    "print(df['location'].nunique()) # Controllo i valori unici per le colonne di paesi e continenti"
   ]
  },
  {
   "cell_type": "code",
   "execution_count": 10,
   "id": "a6d04e77-dc06-43af-8b25-fc7c7cb744e5",
   "metadata": {},
   "outputs": [
    {
     "data": {
      "text/html": [
       "<div>\n",
       "<style scoped>\n",
       "    .dataframe tbody tr th:only-of-type {\n",
       "        vertical-align: middle;\n",
       "    }\n",
       "\n",
       "    .dataframe tbody tr th {\n",
       "        vertical-align: top;\n",
       "    }\n",
       "\n",
       "    .dataframe thead th {\n",
       "        text-align: right;\n",
       "    }\n",
       "</style>\n",
       "<table border=\"1\" class=\"dataframe\">\n",
       "  <thead>\n",
       "    <tr style=\"text-align: right;\">\n",
       "      <th></th>\n",
       "      <th>iso_code</th>\n",
       "      <th>continent</th>\n",
       "      <th>location</th>\n",
       "      <th>date</th>\n",
       "      <th>total_cases</th>\n",
       "      <th>new_cases</th>\n",
       "      <th>new_cases_smoothed</th>\n",
       "      <th>total_deaths</th>\n",
       "      <th>new_deaths</th>\n",
       "      <th>new_deaths_smoothed</th>\n",
       "      <th>...</th>\n",
       "      <th>male_smokers</th>\n",
       "      <th>handwashing_facilities</th>\n",
       "      <th>hospital_beds_per_thousand</th>\n",
       "      <th>life_expectancy</th>\n",
       "      <th>human_development_index</th>\n",
       "      <th>population</th>\n",
       "      <th>excess_mortality_cumulative_absolute</th>\n",
       "      <th>excess_mortality_cumulative</th>\n",
       "      <th>excess_mortality</th>\n",
       "      <th>excess_mortality_cumulative_per_million</th>\n",
       "    </tr>\n",
       "  </thead>\n",
       "  <tbody>\n",
       "  </tbody>\n",
       "</table>\n",
       "<p>0 rows × 67 columns</p>\n",
       "</div>"
      ],
      "text/plain": [
       "Empty DataFrame\n",
       "Columns: [iso_code, continent, location, date, total_cases, new_cases, new_cases_smoothed, total_deaths, new_deaths, new_deaths_smoothed, total_cases_per_million, new_cases_per_million, new_cases_smoothed_per_million, total_deaths_per_million, new_deaths_per_million, new_deaths_smoothed_per_million, reproduction_rate, icu_patients, icu_patients_per_million, hosp_patients, hosp_patients_per_million, weekly_icu_admissions, weekly_icu_admissions_per_million, weekly_hosp_admissions, weekly_hosp_admissions_per_million, total_tests, new_tests, total_tests_per_thousand, new_tests_per_thousand, new_tests_smoothed, new_tests_smoothed_per_thousand, positive_rate, tests_per_case, tests_units, total_vaccinations, people_vaccinated, people_fully_vaccinated, total_boosters, new_vaccinations, new_vaccinations_smoothed, total_vaccinations_per_hundred, people_vaccinated_per_hundred, people_fully_vaccinated_per_hundred, total_boosters_per_hundred, new_vaccinations_smoothed_per_million, new_people_vaccinated_smoothed, new_people_vaccinated_smoothed_per_hundred, stringency_index, population_density, median_age, aged_65_older, aged_70_older, gdp_per_capita, extreme_poverty, cardiovasc_death_rate, diabetes_prevalence, female_smokers, male_smokers, handwashing_facilities, hospital_beds_per_thousand, life_expectancy, human_development_index, population, excess_mortality_cumulative_absolute, excess_mortality_cumulative, excess_mortality, excess_mortality_cumulative_per_million]\n",
       "Index: []\n",
       "\n",
       "[0 rows x 67 columns]"
      ]
     },
     "execution_count": 10,
     "metadata": {},
     "output_type": "execute_result"
    }
   ],
   "source": [
    "df.loc[df.duplicated()] # Controllo che non ci siano record duplicati"
   ]
  },
  {
   "cell_type": "code",
   "execution_count": 11,
   "id": "5959787e-aa64-4834-986e-fba3f93519cc",
   "metadata": {},
   "outputs": [
    {
     "name": "stdout",
     "output_type": "stream",
     "text": [
      "Africa : c'è una discrepanza tra i conteggi di 1451.0\n",
      "Asia : c'è una discrepanza tra i conteggi di 65081.0\n",
      "Belize : c'è una discrepanza tra i conteggi di 2.0\n",
      "Burundi : c'è una discrepanza tra i conteggi di 105.0\n",
      "Ecuador : c'è una discrepanza tra i conteggi di 1594.0\n",
      "Equatorial Guinea : c'è una discrepanza tra i conteggi di 98.0\n",
      "Fiji : c'è una discrepanza tra i conteggi di 7.0\n",
      "Guatemala : c'è una discrepanza tra i conteggi di 27.0\n",
      "High-income countries : c'è una discrepanza tra i conteggi di 3.0\n",
      "Low-income countries : c'è una discrepanza tra i conteggi di 353.0\n",
      "Lower-middle-income countries : c'è una discrepanza tra i conteggi di 65311.0\n",
      "Malawi : c'è una discrepanza tra i conteggi di 88.0\n",
      "Maldives : c'è una discrepanza tra i conteggi di 1.0\n",
      "Mauritania : c'è una discrepanza tra i conteggi di 124.0\n",
      "Mayotte : c'è una discrepanza tra i conteggi di 875.0\n",
      "Micronesia (country) : c'è una discrepanza tra i conteggi di 87.0\n",
      "North America : c'è una discrepanza tra i conteggi di 32.0\n",
      "Oceania : c'è una discrepanza tra i conteggi di 116.0\n",
      "Palau : c'è una discrepanza tra i conteggi di 2.0\n",
      "Philippines : c'è una discrepanza tra i conteggi di 31831.0\n",
      "Samoa : c'è una discrepanza tra i conteggi di 20.0\n",
      "Sint Maarten (Dutch part) : c'è una discrepanza tra i conteggi di 1.0\n",
      "South America : c'è una discrepanza tra i conteggi di 1594.0\n",
      "Thailand : c'è una discrepanza tra i conteggi di 1.0\n",
      "United States Virgin Islands : c'è una discrepanza tra i conteggi di 2.0\n",
      "Upper-middle-income countries : c'è una discrepanza tra i conteggi di 2607.0\n",
      "World : c'è una discrepanza tra i conteggi di 68274.0\n",
      "Zimbabwe : c'è una discrepanza tra i conteggi di 1.0\n",
      "\n",
      " I dati non combaciano nel 10.98% dei casi\n",
      " Nel 0.39% dei casi c'è una discrepanza che supera l'1%\n"
     ]
    }
   ],
   "source": [
    "\"\"\"\n",
    "Verifico se ci sono discrepanze tra la somma cumulativa della colonna new_patients ed il valore massimo della colonna total_patients per ogni paese.\n",
    "Calcolo la percentuale di discrepanze sul totale e la percentuale di discrepanze che superano l'1%.\n",
    "\"\"\"\n",
    "\n",
    "# Le statistiche sono in fondo al primo output\n",
    "\n",
    "# Cerco la percentuale con la quale i dati non combaciano e la percentuale delle discrepanze notevoli\n",
    "discrepanze_count = 0  # Variabile per contare le discrepanze\n",
    "total_countries = len(df['location'].unique()) # Numero totale di paesi\n",
    "discrepanze_notevoli = 0 # Variabile per contare le discrepanze notevoli (oltre il 10%)\n",
    "\n",
    "for country in df['location'].unique(): # Creo un ciclo per verficare se ci siano discrepanze\n",
    "    \n",
    "    casi_totali = df[df['location']==country]['total_cases'].max() # Cerco il valore massimo in icu_patients\n",
    "    casi_nuovi = df[df['location']==country]['new_cases'].sum() # Sommo i valori di weekly_icu_admissions\n",
    "    \n",
    "    # Non considero i casi di record nulli e metto come condizione la diseguaglianza tra le colonne\n",
    "    if pd.notna(casi_totali) and pd.notna(casi_nuovi) and casi_totali != casi_nuovi: \n",
    "        \n",
    "        discrepanze_count += 1 # Sommo 1 per ogni discrepanza\n",
    "        percentuale_discrepanze = (discrepanze_count / total_countries)*100 \n",
    "\n",
    "        differenza = abs(casi_totali - casi_nuovi) # Differenza in valore assoluto\n",
    "        \n",
    "        valore_maggiore = max(casi_totali , casi_nuovi) # Prendo il valore maggiore tra icu_totali e icu_nuovi per calcolare la percentuale di variazione\n",
    "        percentuale = (differenza / valore_maggiore)*100\n",
    "        if percentuale > 1:\n",
    "            discrepanze_notevoli += 1\n",
    "            percentuale_discrepanze_notevoli = (discrepanze_notevoli / total_countries)*100\n",
    "        \n",
    "        print(country, \": c'è una discrepanza tra i conteggi di\", differenza)\n",
    "\n",
    "print('\\n',f\"I dati non combaciano nel {percentuale_discrepanze:.2f}% dei casi\"\n",
    "      '\\n',f\"Nel {percentuale_discrepanze_notevoli:.2f}% dei casi c'è una discrepanza che supera l'1%\")"
   ]
  },
  {
   "cell_type": "markdown",
   "id": "c3d25592-876a-4292-8049-0d435a0695ae",
   "metadata": {},
   "source": [
    "Vediamo come i dati corrispondano nell'89.02% casi, risultando discrepanti o per i raggruppamenti come 'low-income countries' oppure per alcuni paesi.<br>\n",
    "Notiamo che la discrepanza rimane ininfluente essendo di valore basso, infatti soltanto nel 0.39% dei casi la discrepanza supera l'1%.<br>\n",
    "Per i paesi che andremo ad analizzare i dati corrispondono."
   ]
  },
  {
   "cell_type": "markdown",
   "id": "9fcfd6b5-f9b7-484c-a13e-a8237153531b",
   "metadata": {
    "jp-MarkdownHeadingCollapsed": true
   },
   "source": [
    "# 1. Si richiede di verificare le dimensioni del dataset e i relativi metadati"
   ]
  },
  {
   "cell_type": "code",
   "execution_count": 12,
   "id": "1392a503-534a-46b4-bf01-85cde759efe0",
   "metadata": {},
   "outputs": [
    {
     "name": "stdout",
     "output_type": "stream",
     "text": [
      "Il totale dei record è di 429435, i quali si estendono per 67 colonne.\n"
     ]
    }
   ],
   "source": [
    "print(f\"Il totale dei record è di {df.shape[0]}, i quali si estendono per {df.shape[1]} colonne.\")"
   ]
  },
  {
   "cell_type": "code",
   "execution_count": 13,
   "id": "5662d625-80ad-4fb8-8d73-543493cf53cd",
   "metadata": {},
   "outputs": [
    {
     "data": {
      "text/plain": [
       "iso_code                                    object\n",
       "continent                                   object\n",
       "location                                    object\n",
       "date                                        object\n",
       "total_cases                                float64\n",
       "                                            ...   \n",
       "population                                   int64\n",
       "excess_mortality_cumulative_absolute       float64\n",
       "excess_mortality_cumulative                float64\n",
       "excess_mortality                           float64\n",
       "excess_mortality_cumulative_per_million    float64\n",
       "Length: 67, dtype: object"
      ]
     },
     "execution_count": 13,
     "metadata": {},
     "output_type": "execute_result"
    }
   ],
   "source": [
    "df.dtypes"
   ]
  },
  {
   "cell_type": "markdown",
   "id": "a0065741-b28e-40ba-b292-de9249ed54c9",
   "metadata": {},
   "source": [
    "# 2. Si chiede di trovare, per ogni continente:\n",
    "## a. il numero di casi fin dall'inizio della pandemia\n",
    "## b. la percentuale rispetto al totale mondiale del numero di casi"
   ]
  },
  {
   "cell_type": "code",
   "execution_count": 14,
   "id": "63173f68-7aed-4651-9410-59318c57e3ef",
   "metadata": {},
   "outputs": [
    {
     "name": "stdout",
     "output_type": "stream",
     "text": [
      "i casi mondiali totali sono 775,935,057\n"
     ]
    }
   ],
   "source": [
    "continents = df.groupby('continent') # Raggruppo i dati per continente\n",
    "\n",
    "# Sommo i casi per continente e li arrotondo in modo da avere un numero intero per una preferenza nella visualizzazione del dato:\n",
    "continent_cases = continents['new_cases'].sum().round(0).astype(int) \n",
    "\n",
    "total_cases = sum(continent_cases)\n",
    "print('i casi mondiali totali sono', f\"{total_cases:,}\")  # Visualizzazione dei casi mondiali totali con ',' come separatore per una visualizzazione più immediata"
   ]
  },
  {
   "cell_type": "markdown",
   "id": "3468b491-1983-4bd3-adfb-eaf4ce9ffffe",
   "metadata": {},
   "source": [
    "## a. il numero di casi fin dall'inizio della pandemia"
   ]
  },
  {
   "cell_type": "code",
   "execution_count": 15,
   "id": "cab77b23-88ba-40cc-a3ce-47b4ac1857b1",
   "metadata": {},
   "outputs": [
    {
     "name": "stdout",
     "output_type": "stream",
     "text": [
      "continent\n",
      "Africa            13146831\n",
      "Asia             301564180\n",
      "Europe           252916868\n",
      "North America    124492698\n",
      "Oceania           15003468\n",
      "South America     68811012\n",
      "Name: new_cases, dtype: int32\n"
     ]
    }
   ],
   "source": [
    "# Visualizzazione testuale \n",
    "\n",
    "print(continent_cases)"
   ]
  },
  {
   "cell_type": "code",
   "execution_count": 16,
   "id": "43f82b24-cbef-44b1-affb-b90061e421f2",
   "metadata": {},
   "outputs": [
    {
     "name": "stderr",
     "output_type": "stream",
     "text": [
      "C:\\Users\\vladb\\AppData\\Local\\Temp\\ipykernel_39276\\2728683412.py:6: FutureWarning: \n",
      "\n",
      "Passing `palette` without assigning `hue` is deprecated and will be removed in v0.14.0. Assign the `y` variable to `hue` and set `legend=False` for the same effect.\n",
      "\n",
      "  continent_cases_barplot = sns.barplot( data = df , # Provenienza dei dati\n"
     ]
    },
    {
     "data": {
      "image/png": "[encoded data removed]",
      "text/plain": [
       "<Figure size 1000x600 with 1 Axes>"
      ]
     },
     "metadata": {},
     "output_type": "display_data"
    }
   ],
   "source": [
    "# Visualizzazione grafica\n",
    "\n",
    "plt.figure(figsize=(10, 6)) # Imposto le dimensioni\n",
    "\n",
    "# Creo il grafico\n",
    "continent_cases_barplot = sns.barplot( data = df , # Provenienza dei dati\n",
    "                                      x = 'new_cases', # Valori degli assi x e y\n",
    "                                      y = 'continent' , \n",
    "                                      palette = 'rainbow' , # Palette di colori\n",
    "                                      estimator = 'sum' , # Per fare in modo che i valori di new_cases siano sommati\n",
    "                                      width = 0.6 , # Larghezza delle bars\n",
    "                                      errorbar = None) # Rimozione della barra di errore\n",
    "\n",
    "# Creo un ciclo per ottenere i valori delle diverse bars in output\n",
    "for container in continent_cases_barplot.containers:\n",
    "    continent_cases_barplot.bar_label(container , fmt = '%.0f', label_type = 'edge', padding = -15 , fontsize = 7)\n",
    "    \n",
    "# Definisco il titolo del grafico e le etichette degli assi\n",
    "continent_cases_barplot.set_title('Numero di casi per continente' , fontsize = 14)\n",
    "continent_cases_barplot.set_xlabel('Numero di casi in milioni' , fontsize = 12)\n",
    "continent_cases_barplot.set_ylabel('Continente' , fontsize = 12)\n",
    "\n",
    "plt.show()"
   ]
  },
  {
   "cell_type": "markdown",
   "id": "3c629a61-9028-4aa7-9e7e-d4e3e6061f5a",
   "metadata": {},
   "source": [
    "## b. la percentuale rispetto al totale mondiale del numero di casi"
   ]
  },
  {
   "cell_type": "code",
   "execution_count": 17,
   "id": "aa85c5ae-256e-408c-8122-c6f6d56caeb2",
   "metadata": {},
   "outputs": [
    {
     "name": "stdout",
     "output_type": "stream",
     "text": [
      "I casi totali in Africa sono 13,146,831; mentre la percentuale rispetto ai casi mondiali è 1.69 %\n",
      "I casi totali in Asia sono 301,564,180; mentre la percentuale rispetto ai casi mondiali è 38.86 %\n",
      "I casi totali in Europe sono 252,916,868; mentre la percentuale rispetto ai casi mondiali è 32.6 %\n",
      "I casi totali in North America sono 124,492,698; mentre la percentuale rispetto ai casi mondiali è 16.04 %\n",
      "I casi totali in Oceania sono 15,003,468; mentre la percentuale rispetto ai casi mondiali è 1.93 %\n",
      "I casi totali in South America sono 68,811,012; mentre la percentuale rispetto ai casi mondiali è 8.87 %\n"
     ]
    }
   ],
   "source": [
    "# Visualizzazione testuale\n",
    "\n",
    "for continent, cases in continent_cases.items():     # Itero i casi per continente e ne ricavo i casi totali e la percentuale sul totale mondiale\n",
    "    percentage = round((cases / total_cases) * 100, 2)     # Calcolo necessario per la percentuale\n",
    "    print(f\"I casi totali in {continent} sono {cases:,}; mentre la percentuale rispetto ai casi mondiali è {percentage} %\")"
   ]
  },
  {
   "cell_type": "code",
   "execution_count": 18,
   "id": "897ccd73-b139-47ab-8225-db63129c3b2c",
   "metadata": {},
   "outputs": [
    {
     "data": {
      "image/png": "[encoded data removed]",
      "text/plain": [
       "<Figure size 640x480 with 1 Axes>"
      ]
     },
     "metadata": {},
     "output_type": "display_data"
    }
   ],
   "source": [
    "# Visualizzazione grafica\n",
    "\n",
    "continent_cases_pie = plt.pie(continent_cases,\n",
    "                              labels=continent_cases.index, # Utilizzo i nomi dei continenti come etichette\n",
    "                              autopct='%1.1f%%', # Visualizzazione delle percentuali\n",
    "                              colors=sns.color_palette('colorblind', len(continent_cases))) # Palette di colori\n",
    "\n",
    "plt.show()"
   ]
  },
  {
   "cell_type": "markdown",
   "id": "d6e94b92-b5c8-4319-a548-b5a995234dbf",
   "metadata": {},
   "source": [
    "## Soluzione Interattiva Alternativa con Visualizzazione Testuale:"
   ]
  },
  {
   "cell_type": "code",
   "execution_count": 20,
   "id": "0ce77f53-593b-4277-b012-318c202e4861",
   "metadata": {},
   "outputs": [
    {
     "name": "stdin",
     "output_type": "stream",
     "text": [
      "Inserisci il nome del continente desiderato oppure \"esci\" per terminare:  asia\n"
     ]
    },
    {
     "name": "stdout",
     "output_type": "stream",
     "text": [
      "I casi totali in Asia sono 301,564,180,che rappresentano il 38.86% dei casi mondiali.\n"
     ]
    },
    {
     "name": "stdin",
     "output_type": "stream",
     "text": [
      "Inserisci il nome del continente desiderato oppure \"esci\" per terminare:  europa\n"
     ]
    },
    {
     "name": "stdout",
     "output_type": "stream",
     "text": [
      "Contenente non valido. Scegliere tra: Africa, Asia, Europe, North America, Oceania o South America\n"
     ]
    },
    {
     "name": "stdin",
     "output_type": "stream",
     "text": [
      "Inserisci il nome del continente desiderato oppure \"esci\" per terminare:  Europa\n"
     ]
    },
    {
     "name": "stdout",
     "output_type": "stream",
     "text": [
      "Contenente non valido. Scegliere tra: Africa, Asia, Europe, North America, Oceania o South America\n"
     ]
    },
    {
     "name": "stdin",
     "output_type": "stream",
     "text": [
      "Inserisci il nome del continente desiderato oppure \"esci\" per terminare:  europe\n"
     ]
    },
    {
     "name": "stdout",
     "output_type": "stream",
     "text": [
      "I casi totali in Europe sono 252,916,868,che rappresentano il 32.6% dei casi mondiali.\n"
     ]
    },
    {
     "name": "stdin",
     "output_type": "stream",
     "text": [
      "Inserisci il nome del continente desiderato oppure \"esci\" per terminare:  esci\n"
     ]
    },
    {
     "name": "stdout",
     "output_type": "stream",
     "text": [
      "Richiesta completata\n"
     ]
    }
   ],
   "source": [
    "while True: # Condizione necessaria ad un loop continuo \n",
    "    \n",
    "    # Si chiede all'utente di inserire un continente o di terminare il processo\n",
    "    selected_continent = input('Inserisci il nome del continente desiderato oppure \"esci\" per terminare: ').title()\n",
    "\n",
    "    # Verifico se l'utente vuole uscire\n",
    "    if selected_continent.lower() == 'esci':   \n",
    "        print('Richiesta completata')\n",
    "        break\n",
    "\n",
    "    # Verifico che il continente esista nel dataset\n",
    "    elif selected_continent in continent_cases.index: \n",
    "        percentages = round((continent_cases[selected_continent] / total_cases) * 100, 2) # Calcolo percentuale\n",
    "        print(f\"I casi totali in {selected_continent} sono {continent_cases[selected_continent]:,},\" \n",
    "              f\"che rappresentano il {percentages}% dei casi mondiali.\") # Output\n",
    "        \n",
    "    else:\n",
    "        # Messaggio nel caso in cui l'input dell'utente non sia presente tra i continenti\n",
    "        print('Contenente non valido. Scegliere tra: Africa, Asia, Europe, North America, Oceania o South America') \n",
    "        \n",
    "# Ricordarsi di inserire 'esci' per proseguire con il resto dell'analisi"
   ]
  },
  {
   "cell_type": "markdown",
   "id": "d33981e3-346c-4c50-bbd1-cc5b2c72608b",
   "metadata": {},
   "source": [
    "# 3. Selezionare i dati relativi all'Italia nel 2022 e mostrare con dei grafici adeguati:\n",
    "## a. l'evoluzione del casi totali dall'inizio alla fine dell'anno\n",
    "## b. il numero di nuovi casi rispetto alla data\n",
    "##   k. poiché i nuovi casi vengono registrati settimanalmente, filtrare via i dati che non hanno misurazioni"
   ]
  },
  {
   "cell_type": "code",
   "execution_count": 21,
   "id": "d24c1859-1bec-48b6-a9bc-9e97ea3d24e2",
   "metadata": {},
   "outputs": [],
   "source": [
    "df['date'] = pd.to_datetime(df['date'], format = '%Y-%m-%d') # Mi assicuro di convertire i valori della colonna 'date' in datetime\n",
    "\n",
    "# Filtri\n",
    "italy = df[df['location'] == 'Italy'] #Filtro i dati per l'Italia\n",
    "italy_2022 = italy[italy['date'].dt.year == 2022] #Filtro per l'anno 2022\n",
    "\n",
    "# Rimuovo le righe dove non ci sono dati nelle colonne new_cases e total_cases\n",
    "italy_2022 = italy_2022.dropna(subset=['new_cases', 'total_cases']) \n",
    "\n",
    "# Converto i dati delle due colonne in interi (per preferenza nella visualizzazione del dato)\n",
    "italy_2022['new_cases'] = italy_2022['new_cases'].astype(int)  \n",
    "italy_2022['total_cases'] = italy_2022['total_cases'].astype(int)\n",
    "\n",
    "# Filtro i dati non misurati (punto k)\n",
    "italy_2022 = italy_2022[(italy_2022['new_cases'] > 0) & (italy_2022['total_cases'] > 0)]  "
   ]
  },
  {
   "cell_type": "code",
   "execution_count": 22,
   "id": "8c554c82-bbec-4fb0-94ff-854cf8d590a3",
   "metadata": {},
   "outputs": [
    {
     "name": "stdout",
     "output_type": "stream",
     "text": [
      "I casi totali in Italia nel 2022 sono stati 19,438,072 \n",
      " Con 6,267,035 ad inizio anno e 25,060,503 a fine anno\n",
      "I nuovi casi in Italia nel 2022 hanno avuto un picco di 1,268,153 nella settimana del 2022-01-16, \n",
      " ed un minimo di 110,644 nella settimana del 2022-09-11\n"
     ]
    }
   ],
   "source": [
    "# Output visualizzazione testuale dei dati\n",
    "\n",
    "print('I casi totali in Italia nel 2022 sono stati',f\"{italy_2022['new_cases'].sum():,}\", # Visualizzazione relativa ai dati sui casi totali in Italia nel 2022\n",
    "      '\\n','Con',f\"{italy_2022['total_cases'].min():,}\",'ad inizio anno e',f\"{italy_2022['total_cases'].max():,}\",'a fine anno') # Trovo i valori iniziali e finali\n",
    "\n",
    "# Aggiungo il valore minimo e quello massimo con le relative date\n",
    "print(f\"I nuovi casi in Italia nel 2022 hanno avuto un picco di {italy_2022['new_cases'].max():,}\" +\n",
    "      f\" nella settimana del {italy_2022[italy_2022['new_cases']==italy_2022['new_cases'].max()]['date'].dt.date.iloc[0]},\"\n",
    "      ,'\\n',\n",
    "      f\"ed un minimo di {italy_2022['new_cases'].min():,} nella settimana del {italy_2022[italy_2022['new_cases']==italy_2022['new_cases'].min()]['date'].dt.date.iloc[0]}\")"
   ]
  },
  {
   "cell_type": "markdown",
   "id": "51efc577-8c2f-410e-88de-ae352ae483c5",
   "metadata": {},
   "source": [
    "## a. l'evoluzione del casi totali dall'inizio alla fine dell'anno"
   ]
  },
  {
   "cell_type": "code",
   "execution_count": 23,
   "id": "f336ef82-4388-42ca-b3fd-f7484e0a35b6",
   "metadata": {},
   "outputs": [
    {
     "data": {
      "image/png": "[encoded data removed]",
      "text/plain": [
       "<Figure size 640x480 with 1 Axes>"
      ]
     },
     "metadata": {},
     "output_type": "display_data"
    }
   ],
   "source": [
    "# Creo il grafico\n",
    "tot_ita_22_plot = italy_2022.plot(kind = 'line', # Tipo di grafico\n",
    "                                  x = 'date', # Valori degli assi x e y\n",
    "                                  y = 'total_cases',\n",
    "                                  title = 'Evoluzione dei casi totali in Italia nel 2022') # Titolo del grafico\n",
    "\n",
    "# Definisco le etichette degli assi\n",
    "tot_ita_22_plot.set_xlabel('Mesi') \n",
    "tot_ita_22_plot.set_ylabel('Casi totali decine di milioni')\n",
    "\n",
    "plt.grid(True) # Aggiungo una griglia allo sfondo del grafico\n",
    "plt.show()"
   ]
  },
  {
   "cell_type": "markdown",
   "id": "d06b71da-1cb9-402d-94f7-967981cd05ef",
   "metadata": {},
   "source": [
    "## b. il numero di nuovi casi rispetto alla data"
   ]
  },
  {
   "cell_type": "code",
   "execution_count": 24,
   "id": "de14b5a4-b8a8-44ac-8543-799b4fb2d6fd",
   "metadata": {},
   "outputs": [],
   "source": [
    "# Converto la colonna 'date' in data in modo che sul grafico non mi sia fornito in output un datestamp\n",
    "italy_2022['date'] = pd.to_datetime(italy_2022['date'], format='%Y-%m-%d').dt.date "
   ]
  },
  {
   "cell_type": "code",
   "execution_count": 25,
   "id": "8ec6d1b6-2764-4b22-88ea-888ec9381956",
   "metadata": {},
   "outputs": [
    {
     "data": {
      "image/png": "[encoded data removed]",
      "text/plain": [
       "<Figure size 640x480 with 1 Axes>"
      ]
     },
     "metadata": {},
     "output_type": "display_data"
    }
   ],
   "source": [
    "# Creo il grafico\n",
    "new_ita_22_plot = italy_2022.plot(kind = 'line', x = 'date', y = 'new_cases', title = 'Evoluzione dei nuovi casi in Italia nel 2022') \n",
    "\n",
    "# Definisco le etichette degli assi\n",
    "new_ita_22_plot.set_xlabel('Mesi') \n",
    "new_ita_22_plot.set_ylabel('Nuovi casi in milioni')\n",
    "\n",
    "# Creo delle annotazioni sul picco massimo e minimo \n",
    "picco = italy_2022.loc[italy_2022['new_cases'].idxmax()] # Utilizzo idx perché mi ritorna l'indice della riga in cui si verifica la condizione\n",
    "minimo = italy_2022.loc[italy_2022['new_cases'].idxmin()] # In questo modo posso ricavare anche la data sul grafico\n",
    "\n",
    "plt.annotate(f\"Picco massimo: {picco['new_cases']:,} nella settimana del {picco['date']}\",  # Testo dell'annotazione\n",
    "             (picco['date'], picco['new_cases']),  # Posizione del punto (data, valore)\n",
    "             xytext = ( 15 , -5),  # Vari settings sulle caratteristiche di testo e freccia\n",
    "             textcoords = 'offset points', \n",
    "             arrowprops = dict(arrowstyle='->', color='red'),  \n",
    "             fontsize = 10, color = 'red')\n",
    "\n",
    "plt.annotate(f\"Punto minimo: {minimo['new_cases']:,} nella settimana del {minimo['date']}\",\n",
    "             (minimo['date'], minimo['new_cases']),\n",
    "             xytext = ( -30 , 60 ),\n",
    "             textcoords = 'offset points',\n",
    "             arrowprops = dict( arrowstyle = '->', color = 'green'),\n",
    "             fontsize = 10 , color = 'green' )\n",
    "\n",
    "plt.grid(True)\n",
    "plt.show()"
   ]
  },
  {
   "cell_type": "markdown",
   "id": "bbc7493c-473a-4ba1-ad85-07153da0aa0a",
   "metadata": {},
   "source": [
    "# 4. Riguardo le nazioni di Italia, Germania e Francia mostrare in un boxplot la differenza tra queste nazioni riguardo il numero di pazienti in terapia intensiva (Intensive Care Unit, ICU) da maggio 2022 (incluso) ad aprile 2023 (incluso)\n",
    "##  a. scrivere un breve commento a riguardo"
   ]
  },
  {
   "cell_type": "code",
   "execution_count": 26,
   "id": "444fb63e-f1cb-4036-9ac6-30423e04b155",
   "metadata": {},
   "outputs": [],
   "source": [
    "\"\"\"\n",
    "Prendendo nota del file README del dataset fornitomi:\n",
    "\n",
    "  icu_patients = Number of COVID-19 patients in intensive care units (ICUs) on a given day\n",
    "  weekly_icu_admissions = Number of COVID-19 patients newly admitted to intensive care units (ICUs) in a given week (reporting date and the preceeding 6 days)\n",
    "  \n",
    "Essendo che non viene richiesto il numero totale di pazienti in terapia intensiva ma l'evoluzione del numero nel periodo dato, \n",
    "ho deciso di utilizzare i dati della colonna icu_patients.\n",
    "\"\"\"\n",
    "\n",
    "# Filtro i dati per i paesi ed il periodo richiesti\n",
    "ita_ger_fra = ['Italy' , 'Germany' , 'France'] \n",
    "dati_filtrati = df[(df['location'].isin(ita_ger_fra)) &  (df['date'] >= '2022-05-01') &  (df['date'] <= '2023-04-30')]\n",
    "\n",
    "# Rimuovo i valori nulli\n",
    "dati_filtrati = dati_filtrati.dropna(subset = ['icu_patients']) \n",
    "\n",
    "# Converto in numero intero\n",
    "dati_filtrati['icu_patients'] = dati_filtrati['icu_patients'].astype(int) "
   ]
  },
  {
   "cell_type": "code",
   "execution_count": 27,
   "id": "24a47f53-11cc-4287-91a4-8fa874254150",
   "metadata": {},
   "outputs": [
    {
     "name": "stderr",
     "output_type": "stream",
     "text": [
      "C:\\Users\\vladb\\AppData\\Local\\Temp\\ipykernel_39276\\3106707170.py:5: FutureWarning: \n",
      "\n",
      "Passing `palette` without assigning `hue` is deprecated and will be removed in v0.14.0. Assign the `x` variable to `hue` and set `legend=False` for the same effect.\n",
      "\n",
      "  boxplot = sns.boxplot( data = dati_filtrati, # Origine dei dati\n"
     ]
    },
    {
     "data": {
      "text/plain": [
       "Text(0, 0.5, 'Numero di pazienti in terapia intensiva')"
      ]
     },
     "execution_count": 27,
     "metadata": {},
     "output_type": "execute_result"
    },
    {
     "data": {
      "image/png": "[encoded data removed]",
      "text/plain": [
       "<Figure size 640x480 with 1 Axes>"
      ]
     },
     "metadata": {},
     "output_type": "display_data"
    }
   ],
   "source": [
    "# Setto lo stile del grafico\n",
    "sns.set_style('white')   \n",
    "\n",
    "# Creo il grafico con i vari setting\n",
    "boxplot = sns.boxplot( data = dati_filtrati, # Origine dei dati\n",
    "                      x = 'location',\n",
    "                      y = 'icu_patients',\n",
    "                      palette = ['purple','pink','gold'], # Palette di colori\n",
    "                      width = 0.7 ) # Larghezza dei box\n",
    "\n",
    "# Definisco il titolo del grafico e le etichette degli assi\n",
    "boxplot.set_title('Distribuzione dei pazienti in terapia intensiva (maggio 2022 - aprile 2023)', fontsize = 16)\n",
    "boxplot.set_xlabel('Nazione', fontsize = 12)\n",
    "boxplot.set_ylabel('Numero di pazienti in terapia intensiva', fontsize = 12)"
   ]
  },
  {
   "cell_type": "markdown",
   "id": "03476617-8a57-4e87-9c03-c880f2f04a5a",
   "metadata": {},
   "source": [
    "##  a. scrivere un breve commento a riguardo"
   ]
  },
  {
   "cell_type": "markdown",
   "id": "d62a6f35-c063-4dfc-ad81-dd585c6f1fad",
   "metadata": {},
   "source": [
    "-  Premessa:<br>\n",
    "Il grafico boxplot mostra la distribuzione dei pazienti in cura intensiva (ICU) di Francia, Italia e Germania tra maggio 2022 e aprile 2023.<br>\n",
    "La linea centrale nei box rappresenta la mediana, mentre il box delinea il 25° ed il 75° percentile.<br>\n",
    "Le linee esterne rappresentano gli estremi della distribuzione.\n",
    "\n",
    "-  Lettura:<br>\n",
    "A primo impatto l'Italia si distingue dalle altre nazioni per il numero di pazienti in ICU molto più basso e per la distribuzione molto più stretta.<br>\n",
    "Francia e Germania presentano una mediana pressapoco identica, ma la Germania ha valori leggermente più elevati ed una distribuzione più ampia.\n",
    "\n",
    "-  Conclusione:<br>\n",
    "La Germania presenta numeri più alti e variazioni più significative nel tempo, indicando potenzialmente una gestione flessibile ma con grandi picchi di domanda.<br>\n",
    "La Francia, con una distribuzione più stretta e numeri leggermente inferiori, mostra una maggiore stabilità. <br>\n",
    "L'Italia, infine, si distingue per il minor numero di pazienti e un andamento molto più regolare, forse dovuto a una minore pressione sul sistema sanitario o a strategie differenti nella gestione della pandemia."
   ]
  },
  {
   "cell_type": "markdown",
   "id": "e53d7245-c218-43ce-87bc-12e13aa821d8",
   "metadata": {},
   "source": [
    "# 5. Riguardo le nazioni di Italia, Germania, Francia e Spagna in tutto il 2023:\n",
    "## a. mostrare la somma dei pazienti ospedalizzati per ognuna\n",
    "## b. se ci sono dati nulli, con un breve commento scrivere se può essere possibile gestirli tramite sostituzione o meno"
   ]
  },
  {
   "cell_type": "code",
   "execution_count": 28,
   "id": "438258b6-df14-4a3b-b982-b6b4bc840c0a",
   "metadata": {},
   "outputs": [],
   "source": [
    "# Filtro i dati per i paesi e l'anno richiesti\n",
    "ita_ger_fra_spa = ita_ger_fra + ['Spain'] \n",
    "dati_filtrati_2023 = df[(df['location'].isin(ita_ger_fra_spa)) &  (df['date'].dt.year == 2023)] "
   ]
  },
  {
   "cell_type": "code",
   "execution_count": 29,
   "id": "7d19bc62-0d80-47a4-b8b1-d3e31ab1decd",
   "metadata": {},
   "outputs": [
    {
     "name": "stdout",
     "output_type": "stream",
     "text": [
      "Italy: Valori nulli: 0 in hosp_patients e 0 in weekly_hosp_admissions, su 365 record\n",
      "Germany: Valori nulli: 365 in hosp_patients e 187 in weekly_hosp_admissions, su 365 record\n",
      "France: Valori nulli: 275 in hosp_patients e 275 in weekly_hosp_admissions, su 365 record\n",
      "Spain: Valori nulli: 203 in hosp_patients e 203 in weekly_hosp_admissions, su 365 record\n"
     ]
    }
   ],
   "source": [
    "\"\"\"\n",
    "Prendendo nota del file README del dataset fornitomi:\n",
    "\n",
    "  icu_patients = Number of COVID-19 patients in intensive care units (ICUs) on a given day\n",
    "  weekly_icu_admissions\t= Number of COVID-19 patients newly admitted to intensive care units (ICUs) in a given week (reporting date and the preceeding 6 days)\n",
    "\n",
    "In questo caso reputo i dati della colonna weekly_hosp_admissions più adatti all'analisi richiesta. \n",
    "I dati della colonna hosp_patients potrebbero dare risultati errati sulla somma dei pazienti essendo che uno stesso paziente potrebbe essere contato più volte.\n",
    "\n",
    "Un altro motivo della mia scelta è che la colonna hosp_patients per la Germania presenta soltanto valori nulli, rendendo l'analisi compromessa.\n",
    "\"\"\"  \n",
    "\n",
    "# Funzione per confrontare il numero di valori nulli presenti in 'hosp_patients' e 'weekly_hosp_admissions'\n",
    "def count_nulls_by_country(df, country):\n",
    "    country_data = df[df['location'] == country] \n",
    "    null_count = country_data['hosp_patients'].isna().sum()\n",
    "    weekly_null_count = country_data['weekly_hosp_admissions'].isna().sum()\n",
    "    total_records = country_data.shape[0]\n",
    "    print(f\"{country}: Valori nulli: {null_count} in hosp_patients e {weekly_null_count} in weekly_hosp_admissions, su {total_records} record\")\n",
    "\n",
    "# Iterazione sui paesi con la funzione\n",
    "for country in ita_ger_fra_spa:\n",
    "    count_nulls_by_country(dati_filtrati_2023, country)"
   ]
  },
  {
   "cell_type": "markdown",
   "id": "ae05dafe-03fc-4137-9972-6837687e7034",
   "metadata": {},
   "source": [
    "## a. mostrare la somma dei pazienti ospedalizzati per ognuna"
   ]
  },
  {
   "cell_type": "code",
   "execution_count": 30,
   "id": "8845272a-1ef5-4011-a201-070d53806ed8",
   "metadata": {},
   "outputs": [
    {
     "name": "stdout",
     "output_type": "stream",
     "text": [
      "I numeri dei pazienti ospitalizzati nei vari paesi sono:\n",
      "Italy: 592,019\n",
      "Germany: 897,776\n",
      "France: 268,117\n",
      "Spain: 299,463\n"
     ]
    }
   ],
   "source": [
    "# Funzione per calcolare la somma dei pazienti ospedalizzati\n",
    "def calculate_hosp(df,country,year):\n",
    "    country_data = df[(df['location'] == country) & (df['date'].dt.year == year)] # FIltro per paese\n",
    "    return country_data['weekly_hosp_admissions'].sum() # Somma\n",
    "\n",
    "totals_hosp = {country: calculate_hosp(df, country, 2023) for country in ita_ger_fra_spa} # Uso un dizionario per i risultati\n",
    "\n",
    "print('I numeri dei pazienti ospitalizzati nei vari paesi sono:')\n",
    "for country, total in totals_hosp.items():\n",
    "    print(f\"{country}: {int(total):,}\")"
   ]
  },
  {
   "cell_type": "code",
   "execution_count": 31,
   "id": "e03838a0-5062-4f5a-87ff-d385649ea5a3",
   "metadata": {},
   "outputs": [
    {
     "name": "stderr",
     "output_type": "stream",
     "text": [
      "C:\\Users\\vladb\\AppData\\Local\\Temp\\ipykernel_39276\\1341683879.py:6: FutureWarning: \n",
      "\n",
      "Passing `palette` without assigning `hue` is deprecated and will be removed in v0.14.0. Assign the `x` variable to `hue` and set `legend=False` for the same effect.\n",
      "\n",
      "  hosp_2023_barplot = sns.barplot( data = dati_filtrati_2023, x = 'location', y = 'weekly_hosp_admissions', palette = 'pastel',  estimator = 'sum' , width = 0.6 , errorbar = None )\n"
     ]
    },
    {
     "data": {
      "text/plain": [
       "Text(0, 0.5, 'Pazienti ospedalizzati in centinaia di migliaia')"
      ]
     },
     "execution_count": 31,
     "metadata": {},
     "output_type": "execute_result"
    },
    {
     "data": {
      "image/png": "[encoded data removed]",
      "text/plain": [
       "<Figure size 640x480 with 1 Axes>"
      ]
     },
     "metadata": {},
     "output_type": "display_data"
    }
   ],
   "source": [
    "# Visualizzazione grafica\n",
    "\n",
    "sns.set_style('white')   # Setto la base del grafico\n",
    "\n",
    "# Creo il grafico con i vari setting\n",
    "hosp_2023_barplot = sns.barplot( data = dati_filtrati_2023, x = 'location', y = 'weekly_hosp_admissions', palette = 'pastel',  estimator = 'sum' , width = 0.6 , errorbar = None )\n",
    "\n",
    "# Aggiungo le etichette sopra le barre\n",
    "for container in hosp_2023_barplot.containers:\n",
    "    hosp_2023_barplot.bar_label(container , fmt = '%.0f', label_type = 'edge', padding = 2)\n",
    "\n",
    "# Definisco il titolo del grafico e le etichette degli assi\n",
    "hosp_2023_barplot.set_title('Numero totale di pazienti ospedalizzati per Nazione nel 2023' , fontsize = 14)\n",
    "hosp_2023_barplot.set_xlabel('Nazione' , fontsize = 12)\n",
    "hosp_2023_barplot.set_ylabel('Pazienti ospedalizzati in centinaia di migliaia' , fontsize = 10)"
   ]
  },
  {
   "cell_type": "markdown",
   "id": "844d5fbd-9b01-40ad-b846-3972e56f8d5e",
   "metadata": {},
   "source": [
    "## b. se ci sono dati nulli, con un breve commento scrivere se può essere possibile gestirli tramite sostituzione o meno"
   ]
  },
  {
   "cell_type": "markdown",
   "id": "569ef55b-4201-4dd2-8c39-2e10de9f2670",
   "metadata": {},
   "source": [
    "In questo caso, avendo utilizzato la colonna weekly_hosp_admissions, ho deciso di non gestire i dati nulli con una sostituzione (come interpolazione o media) poiché non sarebbe coerente con il dato settimanale. <br>\n",
    "\n",
    "Nel caso avessi deciso di usare la colonna hosp_patients avrebbe forse avuto più senso affidarmi ad una sostituzione per ottenere una continuità temporale del dato. <br>\n",
    "Esempio: in settimana_1 ci sono 10 pazienti, in settimana_2 ce ne sono 20 e nei giorni tra i due campionamenti i dati sono nulli.<br>\n",
    "In questo caso si potrebbe utilizzare una sostituzione per gestire i dati nulli, in modo da ottenere valori intermedi tra 10 e 20."
   ]
  }
 ],
 "metadata": {
  "kernelspec": {
   "display_name": "Python 3 (ipykernel)",
   "language": "python",
   "name": "python3"
  },
  "language_info": {
   "codemirror_mode": {
    "name": "ipython",
    "version": 3
   },
   "file_extension": ".py",
   "mimetype": "text/x-python",
   "name": "python",
   "nbconvert_exporter": "python",
   "pygments_lexer": "ipython3",
   "version": "3.12.7"
  }
 },
 "nbformat": 4,
 "nbformat_minor": 5
}
